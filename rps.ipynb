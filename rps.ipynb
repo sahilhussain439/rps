{
 "cells": [
  {
   "cell_type": "code",
   "execution_count": null,
   "id": "a4aac9c7-0dcf-42cb-ad02-19435072fdaf",
   "metadata": {},
   "outputs": [],
   "source": [
    "import tkinter as tk\n",
    "from tkinter import messagebox\n",
    "import random\n",
    "\n",
    "root = tk.Tk()\n",
    "root.title(\"Rock Paper Scissors\")\n",
    "root.geometry(\"600x600\")\n",
    "\n",
    "def get_computer_choice():\n",
    "    return random.choice(['rock', 'paper', 'scissors'])\n",
    "\n",
    "def is_valid_move(move):\n",
    "    return move in ['rock', 'paper', 'scissors']\n",
    "\n",
    "def get_winner(user_move, computer_move):\n",
    "    if user_move == computer_move:\n",
    "        return \"It's a tie!\"\n",
    "    elif (user_move == 'rock' and computer_move == 'scissors') or \\\n",
    "         (user_move == 'paper' and computer_move == 'rock') or \\\n",
    "         (user_move == 'scissors' and computer_move == 'paper'):\n",
    "        return \"You win!\"\n",
    "    else:\n",
    "        return \"You lose!\"\n",
    "\n",
    "user_score = 0\n",
    "computer_score = 0\n",
    "\n",
    "def update_score(winner):\n",
    "    global user_score, computer_score\n",
    "    if winner == \"You win!\":\n",
    "        user_score += 1\n",
    "    elif winner == \"You lose!\":\n",
    "        computer_score += 1\n",
    "\n",
    "def display_score():\n",
    "    messagebox.showinfo(\"Score\", f\"User: {user_score} - Computer: {computer_score}\")\n",
    "\n",
    "def on_user_move(user_move):\n",
    "    if not is_valid_move(user_move):\n",
    "        messagebox.showerror(\"Error\", \"Invalid move! Please enter rock, paper, or scissors.\")\n",
    "        return\n",
    "\n",
    "    computer_move = get_computer_choice()\n",
    "    result = get_winner(user_move, computer_move)\n",
    "    update_score(result)\n",
    "    messagebox.showinfo(\"Result\", f\"Your move: {user_move}\\nComputer's move: {computer_move}\\n{result}\")\n",
    "    display_score()\n",
    "\n",
    "tk.Label(root, text=\"Choose your move:\", font=(\"Arial\", 18)).pack(pady=20)\n",
    "\n",
    "tk.Button(root, text=\"Rock\", command=lambda: on_user_move('rock')).pack(pady=10)\n",
    "tk.Button(root, text=\"Paper\", command=lambda: on_user_move('paper')).pack(pady=10)\n",
    "tk.Button(root, text=\"Scissors\", command=lambda: on_user_move('scissors')).pack(pady=10)\n",
    "\n",
    "root.mainloop()\n"
   ]
  }
 ],
 "metadata": {
  "kernelspec": {
   "display_name": "Python 3 (ipykernel)",
   "language": "python",
   "name": "python3"
  },
  "language_info": {
   "codemirror_mode": {
    "name": "ipython",
    "version": 3
   },
   "file_extension": ".py",
   "mimetype": "text/x-python",
   "name": "python",
   "nbconvert_exporter": "python",
   "pygments_lexer": "ipython3",
   "version": "3.12.4"
  }
 },
 "nbformat": 4,
 "nbformat_minor": 5
}
